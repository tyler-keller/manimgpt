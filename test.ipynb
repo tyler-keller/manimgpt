{
 "cells": [
  {
   "cell_type": "code",
   "execution_count": 8,
   "metadata": {},
   "outputs": [
    {
     "data": {
      "text/plain": [
       "[(1, 0),\n",
       " (2, 1),\n",
       " (4, 2),\n",
       " (8, 3),\n",
       " (16, 4),\n",
       " (32, 5),\n",
       " (64, 6),\n",
       " (128, 7),\n",
       " (256, 8),\n",
       " (512, 9),\n",
       " (1024, 10),\n",
       " (2048, 11),\n",
       " (4096, 12),\n",
       " (8192, 13),\n",
       " (16384, 14),\n",
       " (32768, 15),\n",
       " (65536, 16),\n",
       " (131072, 17),\n",
       " (262144, 18),\n",
       " (524288, 19),\n",
       " (1048576, 20),\n",
       " (2097152, 21),\n",
       " (4194304, 22),\n",
       " (8388608, 23),\n",
       " (16777216, 24),\n",
       " (33554432, 25),\n",
       " (67108864, 26),\n",
       " (134217728, 27),\n",
       " (268435456, 28),\n",
       " (536870912, 29),\n",
       " (1073741824, 30),\n",
       " (2147483648, 31)]"
      ]
     },
     "execution_count": 8,
     "metadata": {},
     "output_type": "execute_result"
    }
   ],
   "source": [
    "import numpy as np\n",
    "\n",
    "[(2**x, x) for x in range(32)]"
   ]
  },
  {
   "cell_type": "code",
   "execution_count": 1,
   "metadata": {},
   "outputs": [],
   "source": [
    "from bs4 import BeautifulSoup\n",
    "\n",
    "# Load the HTML content from the file\n",
    "file_path = '/mnt/data/page_source.html'\n",
    "with open(file_path, 'r', encoding='utf-8') as file:\n",
    "    html_content = file.read()\n",
    "\n",
    "# Parse the HTML content using BeautifulSoup\n",
    "soup = BeautifulSoup(html_content, 'html.parser')\n",
    "\n",
    "# Extract all text content\n",
    "text_content = soup.get_text()\n",
    "\n",
    "# Output the plain text content\n",
    "text_content[:2000]  # Displaying the first 2000 characters to avoid truncation issues in the output\n"
   ]
  },
  {
   "cell_type": "code",
   "execution_count": null,
   "metadata": {},
   "outputs": [],
   "source": []
  }
 ],
 "metadata": {
  "kernelspec": {
   "display_name": "data",
   "language": "python",
   "name": "python3"
  },
  "language_info": {
   "codemirror_mode": {
    "name": "ipython",
    "version": 3
   },
   "file_extension": ".py",
   "mimetype": "text/x-python",
   "name": "python",
   "nbconvert_exporter": "python",
   "pygments_lexer": "ipython3",
   "version": "3.12.2"
  }
 },
 "nbformat": 4,
 "nbformat_minor": 2
}
